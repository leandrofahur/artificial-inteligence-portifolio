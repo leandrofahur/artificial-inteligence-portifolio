{
 "cells": [
  {
   "cell_type": "markdown",
   "id": "f82b4f96-ff63-446b-b9a2-2ac8d7ab8b0a",
   "metadata": {},
   "source": [
    "# **AI Trading Bot**"
   ]
  },
  {
   "cell_type": "code",
   "execution_count": 9,
   "id": "ab379f80-04d5-49df-88ae-32173c19b6f1",
   "metadata": {},
   "outputs": [],
   "source": [
    "# import pkg:\n",
    "import numpy as np\n",
    "import pandas as pd\n",
    "import matplotlib.pyplot as plt\n",
    "import seaborn as sns\n",
    "import yfinance as yf\n",
    "\n",
    "sns.set()"
   ]
  },
  {
   "cell_type": "code",
   "execution_count": 10,
   "id": "19cdfe99-dd82-4b3e-ae22-f724ee355320",
   "metadata": {},
   "outputs": [
    {
     "name": "stdout",
     "output_type": "stream",
     "text": [
      "yfinance.Ticker object <NVDA>\n"
     ]
    }
   ],
   "source": [
    "# fetch data from a specific stock:\n",
    "nvda = yf.Ticker(\"NVDA\")\n",
    "print(nvda)"
   ]
  }
 ],
 "metadata": {
  "kernelspec": {
   "display_name": "Python 3 (ipykernel)",
   "language": "python",
   "name": "python3"
  },
  "language_info": {
   "codemirror_mode": {
    "name": "ipython",
    "version": 3
   },
   "file_extension": ".py",
   "mimetype": "text/x-python",
   "name": "python",
   "nbconvert_exporter": "python",
   "pygments_lexer": "ipython3",
   "version": "3.12.0"
  }
 },
 "nbformat": 4,
 "nbformat_minor": 5
}
